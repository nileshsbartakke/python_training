{
 "cells": [
  {
   "cell_type": "markdown",
   "metadata": {},
   "source": [
    "# Creating Tuple"
   ]
  },
  {
   "cell_type": "code",
   "execution_count": 47,
   "metadata": {},
   "outputs": [],
   "source": [
    "tup1 = ('physics', 'chemistry', 1997, 2000);\n",
    "tup2 = (1, 2, 3, 4, 5 )\n",
    "tup3 = \"a\", \"b\", \"c\", \"d\";"
   ]
  },
  {
   "cell_type": "code",
   "execution_count": 48,
   "metadata": {},
   "outputs": [
    {
     "name": "stdout",
     "output_type": "stream",
     "text": [
      "<class 'tuple'>\n",
      "<class 'tuple'>\n",
      "<class 'tuple'>\n"
     ]
    }
   ],
   "source": [
    "print(type(tup1))\n",
    "print(type(tup2))\n",
    "print(type(tup3))"
   ]
  },
  {
   "cell_type": "markdown",
   "metadata": {},
   "source": [
    "# Accessing Values in Tuples\n",
    "To access values in tuple, use the square brackets for slicing along with the index or indices to obtain value available at that index."
   ]
  },
  {
   "cell_type": "code",
   "execution_count": 49,
   "metadata": {},
   "outputs": [
    {
     "name": "stdout",
     "output_type": "stream",
     "text": [
      "tup1[0]:  physics\n",
      "(2, 3, 4, 5) (2, 3, 4, 5)\n"
     ]
    }
   ],
   "source": [
    "tup1 = ('physics', 'chemistry', 1997, 2000)\n",
    "tup2 = (1, 2, 3, 4, 5, 6, 7 )\n",
    "print(\"tup1[0]: \", tup1[0])\n",
    "print(tup2[1:5] , tup2[1:5])"
   ]
  },
  {
   "cell_type": "markdown",
   "metadata": {},
   "source": [
    "# Updating Tuples\n",
    "Tuples are immutable which means you cannot update or change the values of tuple elements. "
   ]
  },
  {
   "cell_type": "code",
   "execution_count": 50,
   "metadata": {},
   "outputs": [
    {
     "name": "stdout",
     "output_type": "stream",
     "text": [
      "(12, 34.56, 'abc', 'xyz')\n"
     ]
    }
   ],
   "source": [
    "tup1 = (12, 34.56);\n",
    "tup2 = ('abc', 'xyz');\n",
    "\n",
    "tup3 = tup1 + tup2;\n",
    "print(tup3)"
   ]
  },
  {
   "cell_type": "code",
   "execution_count": 51,
   "metadata": {},
   "outputs": [
    {
     "name": "stdout",
     "output_type": "stream",
     "text": [
      "('physics', 'chemistry', 1997, 2000)\n",
      "After deleting tup :\n",
      "tuple Is not Their\n"
     ]
    }
   ],
   "source": [
    "tup = ('physics', 'chemistry', 1997, 2000);\n",
    "print(tup)\n",
    "del(tup)\n",
    "print(\"After deleting tup :\")\n",
    "try:\n",
    "      print(tup)\n",
    "except:\n",
    "      print(\"tuple Is not Their\")"
   ]
  },
  {
   "cell_type": "code",
   "execution_count": 52,
   "metadata": {},
   "outputs": [
    {
     "name": "stdout",
     "output_type": "stream",
     "text": [
      "physics chemistry 1997 2000 "
     ]
    }
   ],
   "source": [
    "#Iterate over tuple\n",
    "tup = ('physics', 'chemistry', 1997, 2000);\n",
    "for i in tup:\n",
    "    print(i,end=' ')"
   ]
  },
  {
   "cell_type": "code",
   "execution_count": 53,
   "metadata": {},
   "outputs": [
    {
     "name": "stdout",
     "output_type": "stream",
     "text": [
      "physics\n",
      "chemistry\n",
      "('physics', 'chemistry', 1997, 2000)\n",
      "1\n"
     ]
    }
   ],
   "source": [
    "print(tup[0])\n",
    "print(tup[1])\n",
    "print(tup[:])\n"
   ]
  },
  {
   "cell_type": "code",
   "execution_count": 55,
   "metadata": {},
   "outputs": [
    {
     "name": "stdout",
     "output_type": "stream",
     "text": [
      "2\n",
      "0\n"
     ]
    }
   ],
   "source": [
    "# 4 Function Used in Tuple\n",
    "tuple1=(1,2,3,3,5,6)\n",
    "tuple2=(1,2,3,4,5,6)\n",
    "print(tuple1.count(3))\n",
    "print(tuple2.index(1))"
   ]
  },
  {
   "cell_type": "markdown",
   "metadata": {},
   "source": [
    "# Dictionery "
   ]
  },
  {
   "cell_type": "code",
   "execution_count": 56,
   "metadata": {},
   "outputs": [
    {
     "name": "stdout",
     "output_type": "stream",
     "text": [
      "Empty Dictionary: \n",
      "{}\n",
      "\n",
      "Dictionary with the use of Integer Keys: \n",
      "{1: 'V', 2: 'Square', 3: 'System'}\n"
     ]
    }
   ],
   "source": [
    "Dict = {} \n",
    "print(\"Empty Dictionary: \") \n",
    "print(Dict) \n",
    "  \n",
    "# Creating a Dictionary  \n",
    "# with Integer Keys \n",
    "Dict = {1: 'V', 2: 'Square', 3: 'System'} \n",
    "print(\"\\nDictionary with the use of Integer Keys: \") \n",
    "print(Dict)"
   ]
  },
  {
   "cell_type": "markdown",
   "metadata": {},
   "source": [
    "# Function Used by Dictionery"
   ]
  },
  {
   "cell_type": "code",
   "execution_count": 57,
   "metadata": {},
   "outputs": [
    {
     "name": "stdout",
     "output_type": "stream",
     "text": [
      "Initial Dictionary: \n",
      "{5: 'Welcome', 6: 'To', 7: 'Vsquare_System', 'A': {1: 'HI', 2: 'Information', 3: 'Technology'}, 'B': {1: 'Good', 2: 'Life'}}\n",
      "\n",
      "Deleting a specific key: \n",
      "{5: 'Welcome', 7: 'Vsquare_System', 'A': {1: 'HI', 2: 'Information', 3: 'Technology'}, 'B': {1: 'Good', 2: 'Life'}}\n",
      "\n",
      "Deleting a key from Nested Dictionary: \n",
      "{5: 'Welcome', 7: 'Vsquare_System', 'A': {1: 'HI', 3: 'Technology'}, 'B': {1: 'Good', 2: 'Life'}}\n",
      "\n",
      "Popping specific element: \n",
      "{7: 'Vsquare_System', 'A': {1: 'HI', 3: 'Technology'}, 'B': {1: 'Good', 2: 'Life'}}\n",
      "\n",
      "Pops an arbitrary key-value pair: \n",
      "{7: 'Vsquare_System', 'A': {1: 'HI', 3: 'Technology'}}\n",
      "\n",
      "Deleting Entire Dictionary: \n",
      "{}\n"
     ]
    }
   ],
   "source": [
    "Dict = { 5 : 'Welcome', 6 : 'To', 7 : 'Vsquare_System', \n",
    "        'A' : {1 : 'HI', 2 : 'Information', 3 : 'Technology'}, \n",
    "        'B' : {1 : 'Good', 2 : 'Life'}} \n",
    "print(\"Initial Dictionary: \") \n",
    "print(Dict) \n",
    "  \n",
    "# Deleting a Key value \n",
    "del Dict[6] \n",
    "print(\"\\nDeleting a specific key: \") \n",
    "print(Dict) \n",
    "  \n",
    "# Deleting a Key from \n",
    "# Nested Dictionary \n",
    "del Dict['A'][2] \n",
    "print(\"\\nDeleting a key from Nested Dictionary: \") \n",
    "print(Dict) \n",
    "  \n",
    "# Deleting a Key  \n",
    "# using pop() \n",
    "Dict.pop(5) \n",
    "print(\"\\nPopping specific element: \") \n",
    "print(Dict) \n",
    "  \n",
    "# Deleting an arbitrary Key-value pair \n",
    "# using popitem() \n",
    "Dict.popitem() \n",
    "print(\"\\nPops an arbitrary key-value pair: \") \n",
    "print(Dict) \n",
    "  \n",
    "# Deleting entire Dictionary \n",
    "Dict.clear() \n",
    "print(\"\\nDeleting Entire Dictionary: \") \n",
    "print(Dict) "
   ]
  },
  {
   "cell_type": "code",
   "execution_count": null,
   "metadata": {},
   "outputs": [],
   "source": []
  }
 ],
 "metadata": {
  "kernelspec": {
   "display_name": "Python 3",
   "language": "python",
   "name": "python3"
  },
  "language_info": {
   "codemirror_mode": {
    "name": "ipython",
    "version": 3
   },
   "file_extension": ".py",
   "mimetype": "text/x-python",
   "name": "python",
   "nbconvert_exporter": "python",
   "pygments_lexer": "ipython3",
   "version": "3.7.3"
  }
 },
 "nbformat": 4,
 "nbformat_minor": 2
}
