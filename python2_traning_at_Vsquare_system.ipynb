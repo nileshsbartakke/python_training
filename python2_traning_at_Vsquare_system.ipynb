{
 "cells": [
  {
   "cell_type": "code",
   "execution_count": 3,
   "metadata": {},
   "outputs": [],
   "source": [
    "import time\n",
    "import os\n",
    "from zipfile import ZipFile\n",
    "folder_path=\"C:\\\\Users\\\\admin\\\\Desktop\\\\log\"\n",
    "all_files=[]\n",
    "for file_name in os.listdir(folder_path):\n",
    "        all_files.append(os.path.join(folder_path,file_name))\n",
    "\n",
    "\n",
    "def cleaner():\n",
    "    \n",
    "    current_time=time.time()\n",
    "    #print(all_files)\n",
    "    for j in all_files:\n",
    "        #print(\"file Created At\",time.ctime(os.path.getatime(i)))\n",
    "        tmp1=os.path.getatime(j)\n",
    "        tmp2=os.path.getmtime(j)\n",
    "        if (current_time -tmp1) > 1800: #60*30=30min\n",
    "            if (current_time-tmp2) < 300: #60*5=5 min\n",
    "                os.remove(j)\n",
    "        else:\n",
    "            print('File Exists')\n",
    "                \n",
    "def backup():\n",
    "    for file_name in os.listdir(folder_path):\n",
    "        with ZipFile('python_files.zip','w') as zip: \n",
    "            zip.write(file_name) \n",
    "        \n",
    "cleaner()"
   ]
  },
  {
   "cell_type": "code",
   "execution_count": null,
   "metadata": {},
   "outputs": [],
   "source": []
  }
 ],
 "metadata": {
  "kernelspec": {
   "display_name": "Python 3",
   "language": "python",
   "name": "python3"
  },
  "language_info": {
   "codemirror_mode": {
    "name": "ipython",
    "version": 3
   },
   "file_extension": ".py",
   "mimetype": "text/x-python",
   "name": "python",
   "nbconvert_exporter": "python",
   "pygments_lexer": "ipython3",
   "version": "3.7.3"
  }
 },
 "nbformat": 4,
 "nbformat_minor": 2
}
