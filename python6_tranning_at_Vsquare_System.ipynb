{
 "cells": [
  {
   "cell_type": "markdown",
   "metadata": {},
   "source": [
    "# Importing numpy library"
   ]
  },
  {
   "cell_type": "code",
   "execution_count": 1,
   "metadata": {},
   "outputs": [],
   "source": [
    "import numpy as np"
   ]
  },
  {
   "cell_type": "code",
   "execution_count": 13,
   "metadata": {},
   "outputs": [
    {
     "name": "stdout",
     "output_type": "stream",
     "text": [
      "[1 2 3 4 5]\n",
      "[1. 2. 3. 4. 5.]\n",
      "[1.+0.j 2.+0.j 3.+0.j 4.+0.j 5.+0.j]\n"
     ]
    }
   ],
   "source": [
    "#1D Array\n",
    "arr1=np.array([1,2,3,4,5],dtype=int)\n",
    "print(arr1)\n",
    "arr2=np.array([1,2,3,4,5],dtype=float)\n",
    "print(arr2)\n",
    "arr3=np.array([1,2,3,4,5],dtype=complex)\n",
    "print(arr3)"
   ]
  },
  {
   "cell_type": "markdown",
   "metadata": {},
   "source": [
    "# Array Slicing"
   ]
  },
  {
   "cell_type": "code",
   "execution_count": 19,
   "metadata": {},
   "outputs": [
    {
     "name": "stdout",
     "output_type": "stream",
     "text": [
      "[1 2 3 4 5]\n",
      "[2 3 4 5]\n",
      "[3 4 5]\n",
      "[3 4 5]\n",
      "[2 3 4 5]\n"
     ]
    }
   ],
   "source": [
    "print(arr1[0:])\n",
    "print(arr1[1:])\n",
    "print(arr1[2:])\n",
    "print(arr1[2:5])\n",
    "print(arr1[1:5])"
   ]
  },
  {
   "cell_type": "markdown",
   "metadata": {},
   "source": [
    "# MAtrix Multiplicaction"
   ]
  },
  {
   "cell_type": "code",
   "execution_count": 41,
   "metadata": {},
   "outputs": [
    {
     "name": "stdout",
     "output_type": "stream",
     "text": [
      "***************\n",
      "Matrix1: [[1 2 3]\n",
      " [4 5 6]\n",
      " [7 8 9]]\n",
      "***************\n",
      "Matrix2: [[1 2 3]\n",
      " [4 5 6]\n",
      " [7 8 9]]\n",
      "***************\n",
      "[[ 30  36  42]\n",
      " [ 66  81  96]\n",
      " [102 126 150]]\n"
     ]
    }
   ],
   "source": [
    "#2D Array\n",
    "Matrix2=np.array([[1,2,3],[4,5,6],[7,8,9]])\n",
    "Matrix1=np.array([[1,2,3],[4,5,6],[7,8,9]])\n",
    "\n",
    "print(\"*\"*15,end='\\n')\n",
    "print(\"Matrix1:\",Matrix1)\n",
    "\n",
    "\n",
    "print(\"*\"*15)\n",
    "print(\"Matrix2:\",Matrix2)\n",
    "\n",
    "\n",
    "print(\"*\"*15)\n",
    "C=A@B   # @Sign Used for Matrix mulitplication\n",
    "print(c)"
   ]
  },
  {
   "cell_type": "code",
   "execution_count": 77,
   "metadata": {},
   "outputs": [
    {
     "name": "stdout",
     "output_type": "stream",
     "text": [
      "[[ 30  36  42]\n",
      " [ 66  81  96]\n",
      " [102 126 150]]\n"
     ]
    }
   ],
   "source": [
    "#Creating Dot Product of Matrix\n",
    "Matrix3=np.dot(Matrix1,Matrix2)\n",
    "print(Matrix3)"
   ]
  },
  {
   "cell_type": "code",
   "execution_count": 78,
   "metadata": {},
   "outputs": [
    {
     "name": "stdout",
     "output_type": "stream",
     "text": [
      "[[0 0 0]\n",
      " [0 0 0]\n",
      " [0 0 0]]\n"
     ]
    }
   ],
   "source": [
    "#Creating Cross product Of Matrix\n",
    "Matrix4=np.cross(Matrix1,Matrix2)\n",
    "print(Matrix4)"
   ]
  },
  {
   "cell_type": "code",
   "execution_count": 85,
   "metadata": {},
   "outputs": [
    {
     "name": "stdout",
     "output_type": "stream",
     "text": [
      "[[ 2  4  6]\n",
      " [ 8 10 12]\n",
      " [14 16 18]]\n"
     ]
    }
   ],
   "source": [
    "#Creating Addition Of Matrix\n",
    "Matrix5=Matrix1+Matrix2\n",
    "print(Matrix5)"
   ]
  },
  {
   "cell_type": "code",
   "execution_count": 86,
   "metadata": {},
   "outputs": [
    {
     "name": "stdout",
     "output_type": "stream",
     "text": [
      "[[ 2  4  6]\n",
      " [ 8 10 12]\n",
      " [14 16 18]]\n"
     ]
    }
   ],
   "source": [
    "#Creating Addition Of Matrix\n",
    "Matrix6=Matrix1-Matrix2\n",
    "print(Matrix5)"
   ]
  },
  {
   "cell_type": "code",
   "execution_count": 87,
   "metadata": {},
   "outputs": [
    {
     "name": "stdout",
     "output_type": "stream",
     "text": [
      "[[1. 1. 1.]\n",
      " [1. 1. 1.]\n",
      " [1. 1. 1.]]\n"
     ]
    }
   ],
   "source": [
    "#Creating Addition Of Matrix\n",
    "Matrix7=Matrix1/Matrix2\n",
    "print(Matrix7)"
   ]
  },
  {
   "cell_type": "code",
   "execution_count": 88,
   "metadata": {},
   "outputs": [
    {
     "name": "stdout",
     "output_type": "stream",
     "text": [
      "[[ 1  4  9]\n",
      " [16 25 36]\n",
      " [49 64 81]]\n"
     ]
    }
   ],
   "source": [
    "#Creating element Wise multiplication Not a Matrix Multiplication\n",
    "Matrix8=Matrix1*Matrix2\n",
    "print(Matrix8)"
   ]
  },
  {
   "cell_type": "code",
   "execution_count": 93,
   "metadata": {},
   "outputs": [
    {
     "name": "stdout",
     "output_type": "stream",
     "text": [
      "[[1 0 0]\n",
      " [0 1 0]\n",
      " [0 0 1]]\n"
     ]
    }
   ],
   "source": [
    "#Creating Identity Matrix\n",
    "example10=np.identity(3,dtype=int)\n",
    "print(example10)"
   ]
  },
  {
   "cell_type": "markdown",
   "metadata": {},
   "source": [
    "### shape : Number of rows\n",
    "### order : C_contiguous or F_contiguous\n",
    "### dtype : [optional, float(by Default)] Data type of returned array."
   ]
  },
  {
   "cell_type": "code",
   "execution_count": 89,
   "metadata": {},
   "outputs": [
    {
     "name": "stdout",
     "output_type": "stream",
     "text": [
      "[[1 2 3]\n",
      " [4 5 6]]\n",
      "(2, 3)\n"
     ]
    }
   ],
   "source": [
    "example0=np.array([[1,2,3],[4,5,6]])\n",
    "print(example0)\n",
    "print(example0.shape)"
   ]
  },
  {
   "cell_type": "code",
   "execution_count": 90,
   "metadata": {},
   "outputs": [
    {
     "name": "stdout",
     "output_type": "stream",
     "text": [
      "[1. 1. 1. 1. 1.]\n",
      "[         0 1072693248          0 1072693248          0 1072693248\n",
      "          0 1072693248          0 1072693248]\n",
      "[8.90490836e-312+9.63428009e-322j 0.00000000e+000+0.00000000e+000j\n",
      " 8.89116236e-312+5.02034658e+175j 1.20134396e-075+2.93053504e-057j\n",
      " 4.55814802e-037+8.00661411e+165j 1.47763641e+248+1.16096346e-028j\n",
      " 7.69165785e+218+1.35617292e+248j 2.13875455e+184+3.24791130e-057j\n",
      " 1.54767492e+185+3.35098528e-033j 4.30256311e-096+6.32299154e+233j\n",
      " 3.65588282e+233+1.74569531e+238j 1.11763132e+261+1.16318408e-028j\n",
      " 2.24729310e+174+1.56605686e-076j 6.74204472e-067+6.37361879e-062j\n",
      " 1.24689926e-047+7.72043097e+140j]\n"
     ]
    }
   ],
   "source": [
    "#Creating Empty Array\n",
    "example1=np.empty(5) #deafult dtype is float\n",
    "print(example1)\n",
    "\n",
    "example2=np.empty(10,dtype=int) \n",
    "print(example2)\n",
    "\n",
    "example3=np.empty(15,dtype=complex)\n",
    "print(example3)"
   ]
  },
  {
   "cell_type": "code",
   "execution_count": 91,
   "metadata": {},
   "outputs": [
    {
     "name": "stdout",
     "output_type": "stream",
     "text": [
      "[0. 0. 0. 0. 0.]\n",
      "[0 0 0 0 0 0 0 0 0 0]\n",
      "[0.+0.j 0.+0.j 0.+0.j 0.+0.j 0.+0.j 0.+0.j 0.+0.j 0.+0.j 0.+0.j 0.+0.j\n",
      " 0.+0.j 0.+0.j 0.+0.j 0.+0.j 0.+0.j]\n"
     ]
    }
   ],
   "source": [
    "#Creating Zeros Matrix\n",
    "example4=np.zeros(5) #deafult dtype is float\n",
    "print(example4)\n",
    "\n",
    "example5=np.zeros(10,dtype=int) \n",
    "print(example5)\n",
    "\n",
    "example6=np.zeros(15,dtype=complex)\n",
    "print(example6)"
   ]
  },
  {
   "cell_type": "code",
   "execution_count": 117,
   "metadata": {},
   "outputs": [
    {
     "name": "stdout",
     "output_type": "stream",
     "text": [
      "[1. 1. 1. 1. 1.]\n",
      "[1 1 1 1 1 1 1 1 1 1]\n",
      "[1.+0.j 1.+0.j 1.+0.j 1.+0.j 1.+0.j 1.+0.j 1.+0.j 1.+0.j 1.+0.j 1.+0.j\n",
      " 1.+0.j 1.+0.j 1.+0.j 1.+0.j 1.+0.j]\n"
     ]
    }
   ],
   "source": [
    "#Creating ones Matrix\n",
    "example7=np.ones(5) #deafult dtype is float\n",
    "print(example7)\n",
    "\n",
    "example8=np.ones(10,dtype=int) \n",
    "print(example8)\n",
    "\n",
    "example9=np.ones(15,dtype=complex)\n",
    "print(example9)"
   ]
  },
  {
   "cell_type": "code",
   "execution_count": 118,
   "metadata": {},
   "outputs": [
    {
     "name": "stdout",
     "output_type": "stream",
     "text": [
      "[9 9 9 9 9]\n",
      "[9 9 9 9 9 9 9 9 9 9]\n",
      "[9.+0.j 9.+0.j 9.+0.j 9.+0.j 9.+0.j 9.+0.j 9.+0.j 9.+0.j 9.+0.j 9.+0.j\n",
      " 9.+0.j 9.+0.j 9.+0.j 9.+0.j 9.+0.j]\n"
     ]
    }
   ],
   "source": [
    "#Creating full Matrix\n",
    "example7=np.full(5,9) #deafult dtype is float\n",
    "print(example7)\n",
    "\n",
    "example8=np.full(10,9,dtype=int) \n",
    "print(example8)\n",
    "\n",
    "example9=np.full(15,9,dtype=complex)\n",
    "print(example9)"
   ]
  },
  {
   "cell_type": "code",
   "execution_count": 119,
   "metadata": {},
   "outputs": [
    {
     "name": "stdout",
     "output_type": "stream",
     "text": [
      "(2, 3)\n"
     ]
    },
    {
     "data": {
      "text/plain": [
       "array([[3, 2],\n",
       "       [1, 1],\n",
       "       [2, 3]])"
      ]
     },
     "execution_count": 119,
     "metadata": {},
     "output_type": "execute_result"
    }
   ],
   "source": [
    "#reshape Fuction\n",
    "example10=np.array([[3,2,1],[1,2,3]])\n",
    "print(example10.shape)\n",
    "example10.reshape(3,2)"
   ]
  },
  {
   "cell_type": "code",
   "execution_count": 120,
   "metadata": {},
   "outputs": [
    {
     "name": "stdout",
     "output_type": "stream",
     "text": [
      "[0 1 2 3 4 5 6 7 8 9]\n",
      "[0 2 4 6 8]\n",
      "[1 3 5 7 9]\n"
     ]
    }
   ],
   "source": [
    "#Creating Series numpy\n",
    "series1=np.arange(10)\n",
    "print(series1)\n",
    "series2=np.arange(0,10,2) #Even number\n",
    "print(series2)\n",
    "series3=np.arange(1,10,2) #Odd Number\n",
    "print(series3)"
   ]
  },
  {
   "cell_type": "code",
   "execution_count": 121,
   "metadata": {},
   "outputs": [
    {
     "name": "stdout",
     "output_type": "stream",
     "text": [
      "[[ 0  1  2  3  4]\n",
      " [ 5  6  7  8  9]\n",
      " [10 11 12 13 14]\n",
      " [15 16 17 18 19]\n",
      " [20 21 22 23 24]\n",
      " [25 26 27 28 29]\n",
      " [30 31 32 33 34]\n",
      " [35 36 37 38 39]]\n",
      "[[ 0  1  2  3  4  5  6  7]\n",
      " [ 8  9 10 11 12 13 14 15]\n",
      " [16 17 18 19 20 21 22 23]\n",
      " [24 25 26 27 28 29 30 31]\n",
      " [32 33 34 35 36 37 38 39]]\n",
      "[[ 0  1  2  3  4  5  6  7  8  9 10 11 12 13 14 15 16 17 18 19]\n",
      " [20 21 22 23 24 25 26 27 28 29 30 31 32 33 34 35 36 37 38 39]]\n"
     ]
    }
   ],
   "source": [
    "series4=np.arange(40)\n",
    "series5=series4.reshape(8,5)\n",
    "print(series5)\n",
    "\n",
    "series6=series4.reshape(5,8)\n",
    "print(series6)\n",
    "\n",
    "series7=series4.reshape(2,20)\n",
    "print(series7)"
   ]
  },
  {
   "cell_type": "code",
   "execution_count": 122,
   "metadata": {},
   "outputs": [
    {
     "name": "stdout",
     "output_type": "stream",
     "text": [
      "Original Array : \n",
      " [0 1 2 3 4 5 6 7]\n",
      "\n",
      "Array reshaped with 2 rows and 4 columns : \n",
      " [[0 1 2 3]\n",
      " [4 5 6 7]]\n",
      "\n",
      "Array reshaped with 2 rows and 4 columns : \n",
      " [[0 1]\n",
      " [2 3]\n",
      " [4 5]\n",
      " [6 7]]\n",
      "\n",
      "Original Array reshaped to 3D : \n",
      " [[[0 1]\n",
      "  [2 3]]\n",
      "\n",
      " [[4 5]\n",
      "  [6 7]]]\n"
     ]
    }
   ],
   "source": [
    "series8 = np.arange(8) \n",
    "print(\"Original Array : \\n\", series8) \n",
    "  \n",
    "# shape arr with 2 rows and 4 columns \n",
    "series9 = np.arange(8).reshape(2, 4) \n",
    "print(\"\\nArray reshaped with 2 rows and 4 columns : \\n\", series9) \n",
    "  \n",
    "# shape arr with 2 rows and 4 columns \n",
    "series10 = np.arange(8).reshape(4 ,2) \n",
    "print(\"\\nArray reshaped with 2 rows and 4 columns : \\n\", series10) \n",
    "  \n",
    "# Constructs 3D arr \n",
    "series11 = np.arange(8).reshape(2, 2, 2) \n",
    "print(\"\\nOriginal Array reshaped to 3D : \\n\", series11)"
   ]
  },
  {
   "cell_type": "code",
   "execution_count": 128,
   "metadata": {},
   "outputs": [
    {
     "name": "stdout",
     "output_type": "stream",
     "text": [
      "[ 1.   2.8  4.6  6.4  8.2 10. ]\n"
     ]
    }
   ],
   "source": [
    "#linspace fuction in numpy\n",
    "X=np.linspace(1,10,6)\n",
    "print(X)\n",
    "#formula_for_step\n",
    "#step_value=stop-start/num-1"
   ]
  },
  {
   "cell_type": "code",
   "execution_count": 135,
   "metadata": {},
   "outputs": [
    {
     "name": "stdout",
     "output_type": "stream",
     "text": [
      "[1.  2.5 4.  5.5 7.  8.5]\n"
     ]
    }
   ],
   "source": [
    "#endpoint consideration\n",
    "Y=np.linspace(1,10,6,endpoint=False)\n",
    "print(Y)"
   ]
  },
  {
   "cell_type": "code",
   "execution_count": 138,
   "metadata": {},
   "outputs": [
    {
     "name": "stdout",
     "output_type": "stream",
     "text": [
      "(array([ 1. ,  2.8,  4.6,  6.4,  8.2, 10. ]), 1.8)\n"
     ]
    }
   ],
   "source": [
    "#to return the retstep(returen stepvalue) default is False\n",
    "Z=np.linspace(1,10,6,retstep=True)\n",
    "print(Z)"
   ]
  },
  {
   "cell_type": "code",
   "execution_count": 132,
   "metadata": {},
   "outputs": [
    {
     "name": "stdout",
     "output_type": "stream",
     "text": [
      "[1 2 3 4]\n",
      "[9 8 7 6]\n"
     ]
    }
   ],
   "source": [
    "#np.asarray function\n",
    "\n",
    "#tuple to Array\n",
    "tuple1=(1,2,3,4)\n",
    "array1=np.asarray(tuple1)\n",
    "print(array1)\n",
    "\n",
    "#list to Array\n",
    "list1=[9,8,7,6]\n",
    "array2=np.asarray(list1)\n",
    "print(array2)\n"
   ]
  },
  {
   "cell_type": "code",
   "execution_count": 177,
   "metadata": {},
   "outputs": [
    {
     "name": "stdout",
     "output_type": "stream",
     "text": [
      "Welcome_Vsquare_System\n",
      "ec\n",
      "Welcome_Vsquare_System\n",
      "WloeVqaeSse\n",
      "Wcesa_sm\n"
     ]
    }
   ],
   "source": [
    "str1=\"Welcome_Vsquare_System\"\n",
    "print(str1)\n",
    "s=slice(1,4,2) #slice(start,stop,step)\n",
    "print(str1[s])\n",
    "s=slice(0,len(str1),1)\n",
    "print(str1[s])\n",
    "s=slice(0,len(str1),2)\n",
    "print(str1[s])\n",
    "s=slice(0,len(str1),3)\n",
    "print(str1[s])"
   ]
  },
  {
   "cell_type": "code",
   "execution_count": 183,
   "metadata": {},
   "outputs": [
    {
     "name": "stdout",
     "output_type": "stream",
     "text": [
      "[[1 2 3]\n",
      " [4 5 6]\n",
      " [7 8 9]]\n",
      " \n",
      " [1 4 7]\n",
      " \n",
      " [2 5 8]\n",
      " \n",
      " [3 6 9]\n",
      " \n",
      " [1 2 3]\n",
      " \n",
      " [4 5 6]\n",
      " \n",
      " [7 8 9]\n"
     ]
    }
   ],
   "source": [
    "print(Matrix1)\n",
    "print(\" \\n\",Matrix1[...,0]) #0st Colume\n",
    "print(\" \\n\",Matrix1[...,1]) #1 column\n",
    "print(\" \\n\",Matrix1[...,2]) #2 column\n",
    "print(\" \\n\",Matrix1[0,...]) #0 row\n",
    "print(\" \\n\",Matrix1[1,...]) #1 row\n",
    "print(\" \\n\",Matrix1[2,...]) #2 row"
   ]
  },
  {
   "cell_type": "markdown",
   "metadata": {},
   "source": [
    "# Broadcasting in numpy"
   ]
  },
  {
   "cell_type": "code",
   "execution_count": 194,
   "metadata": {},
   "outputs": [
    {
     "name": "stdout",
     "output_type": "stream",
     "text": [
      "[[1 2 3]\n",
      " [4 5 6]\n",
      " [7 8 9]]\n",
      "(3, 3)\n",
      "[9 8 1]\n",
      "(3,)\n",
      "[[ 9 16  3]\n",
      " [36 40  6]\n",
      " [63 64  9]]\n"
     ]
    }
   ],
   "source": [
    "#Brodcasting (Mismatch Matrix multiplication)\n",
    "a1=np.array([[1,2,3],[4,5,6],[7,8,9]]) #size Of Matrix\n",
    "print(a1)\n",
    "print(a1.shape)\n",
    "a2=np.array([9,8,1]) #size of Matrix\n",
    "print(a2)\n",
    "print(a2.shape)\n",
    "print(a1*a2)"
   ]
  },
  {
   "cell_type": "code",
   "execution_count": null,
   "metadata": {},
   "outputs": [],
   "source": []
  }
 ],
 "metadata": {
  "kernelspec": {
   "display_name": "Python 3",
   "language": "python",
   "name": "python3"
  },
  "language_info": {
   "codemirror_mode": {
    "name": "ipython",
    "version": 3
   },
   "file_extension": ".py",
   "mimetype": "text/x-python",
   "name": "python",
   "nbconvert_exporter": "python",
   "pygments_lexer": "ipython3",
   "version": "3.7.3"
  }
 },
 "nbformat": 4,
 "nbformat_minor": 2
}
