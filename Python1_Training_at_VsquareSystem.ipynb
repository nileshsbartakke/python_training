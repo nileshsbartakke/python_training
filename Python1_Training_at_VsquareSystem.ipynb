{
 "cells": [
  {
   "cell_type": "markdown",
   "metadata": {},
   "source": [
    "# Leanring Python 14 OCT 2019"
   ]
  },
  {
   "cell_type": "markdown",
   "metadata": {},
   "source": [
    "## Arimatic Operators"
   ]
  },
  {
   "cell_type": "code",
   "execution_count": 16,
   "metadata": {},
   "outputs": [],
   "source": [
    "a=2\n",
    "b=3"
   ]
  },
  {
   "cell_type": "code",
   "execution_count": 75,
   "metadata": {},
   "outputs": [
    {
     "name": "stdout",
     "output_type": "stream",
     "text": [
      "Additon 9\n",
      "Subtraction 1\n",
      "Mulitiplication 20\n",
      "Division 1.25\n",
      "***************\n",
      "Floor Division 0\n",
      "Modulas 1\n",
      "Power OF 625\n"
     ]
    }
   ],
   "source": [
    "\n",
    "#Addition\n",
    "print(\"Additon\",a+b)\n",
    "#Subtraction\n",
    "print(\"Subtraction\",a-b)\n",
    "#Mulitplication\n",
    "print(\"Mulitiplication\",a*b)\n",
    "#Division\n",
    "print(\"Division\",a/b)\n",
    "print(\"*\"*15)\n",
    "#Floor Division\n",
    "print(\"Floor Division\",b//a)\n",
    "#Modulas\n",
    "print(\"Modulas\",a%b)\n",
    "#Raised To\n",
    "print(\"Power OF\",a**b)\n"
   ]
  },
  {
   "cell_type": "markdown",
   "metadata": {},
   "source": [
    "# Logical Operators"
   ]
  },
  {
   "cell_type": "code",
   "execution_count": 18,
   "metadata": {},
   "outputs": [],
   "source": [
    "a=5\n",
    "b=4"
   ]
  },
  {
   "cell_type": "code",
   "execution_count": 19,
   "metadata": {},
   "outputs": [
    {
     "name": "stdout",
     "output_type": "stream",
     "text": [
      "BitWise AND 4\n",
      "Bitwise Exclusive  1\n",
      "Bitwise Inversion -6\n",
      "BitWise OR 5\n",
      "Identity False\n",
      "Identity True\n",
      "Left Shift 20\n",
      "Right Shift 1\n"
     ]
    }
   ],
   "source": [
    "print(\"BitWise AND\",a&b)\n",
    "print(\"Bitwise Exclusive \",a^b)\n",
    "print(\"Bitwise Inversion\",~a)\n",
    "print(\"BitWise OR\",a|b)\n",
    "print(\"Identity\",a is b)\n",
    "print(\"Identity\",a is not b)\n",
    "print(\"Left Shift\",a<<2)\n",
    "print(\"Right Shift\",a>>2)"
   ]
  },
  {
   "cell_type": "code",
   "execution_count": 20,
   "metadata": {},
   "outputs": [],
   "source": [
    "#Comparison Opeartors\n",
    "str1='Vsquare'\n",
    "str2='System'"
   ]
  },
  {
   "cell_type": "code",
   "execution_count": 21,
   "metadata": {},
   "outputs": [
    {
     "name": "stdout",
     "output_type": "stream",
     "text": [
      "Less than False\n",
      "Greater than True\n",
      "Equal To  False\n",
      "Not Equal To  True\n",
      "less than Equal To  False\n",
      "Greater than Equal To  True\n"
     ]
    }
   ],
   "source": [
    "print(\"Less than\",str1<str2)\n",
    "print(\"Greater than\",str1>str2)\n",
    "print(\"Equal To \",str1==str2)\n",
    "print(\"Not Equal To \",str1!=str2)\n",
    "print(\"less than Equal To \",str1<=str2)\n",
    "print(\"Greater than Equal To \",str1>=str2)"
   ]
  },
  {
   "cell_type": "markdown",
   "metadata": {},
   "source": [
    "# String comparison\n",
    "### You can use ( > , < , <= , <= , == , !=  ) to compare two strings. Python compares string lexicographically i.e using ASCII value of the characters."
   ]
  },
  {
   "cell_type": "code",
   "execution_count": 68,
   "metadata": {},
   "outputs": [
    {
     "name": "stdout",
     "output_type": "stream",
     "text": [
      "Upper Format: VSQUARE\n",
      "Lower Format: system\n",
      "Capitalised Format: Vsquare\n",
      "Title Format: Vsquare\n",
      "Swapcase: vSQUARE\n",
      "Replace: vsquare\n",
      "Concat: VsquareSystem\n",
      "Slicing V\n",
      "Slicing Vs\n",
      "Slicing Vsq\n",
      "Slicing Vsquare\n",
      "Slicing square\n",
      "In Operators False\n"
     ]
    }
   ],
   "source": [
    "print(\"Upper Format:\",str1.upper())\n",
    "print(\"Lower Format:\",str2.lower())\n",
    "print(\"Capitalised Format:\",str1.capitalize())\n",
    "print(\"Title Format:\",str1.title())\n",
    "print(\"Swapcase:\",str1.swapcase())\n",
    "print(\"Replace:\",str1.replace('V','v'))\n",
    "print(\"Concat:\",str1+str2)\n",
    "print(\"Slicing\",str1[:1])\n",
    "print(\"Slicing\",str1[:2])\n",
    "print(\"Slicing\",str1[:3])\n",
    "print(\"Slicing\",str1[0:7])\n",
    "print(\"Slicing\",str1[1:7])\n",
    "print(\"In Operators\",str1 in str2)"
   ]
  },
  {
   "cell_type": "code",
   "execution_count": null,
   "metadata": {},
   "outputs": [],
   "source": [
    "# print(\"Address\",id(str1))\n",
    "print(\"Type\",type(str1))\n",
    "print(\"Intger_Type\",type(a))\n",
    "print(\"Length\",len(str1))\n",
    "print(\"Maximum between 4 and 5 IS\",max(a,b))\n",
    "print(\"Minimum between 4 and 5 IS\",min(a,b))"
   ]
  },
  {
   "cell_type": "markdown",
   "metadata": {},
   "source": [
    "# Boolean Opearators\n"
   ]
  },
  {
   "cell_type": "code",
   "execution_count": 52,
   "metadata": {},
   "outputs": [
    {
     "name": "stdout",
     "output_type": "stream",
     "text": [
      "False\n",
      "True\n",
      "True\n",
      "False\n",
      "False\n",
      "True\n",
      "True\n"
     ]
    }
   ],
   "source": [
    "s = \"Welcome to Vsquare System\"\n",
    "\n",
    "print(s.isalnum())\n",
    "print(\"Welcome\".isalpha())\n",
    "print(\"2012\".isdigit())\n",
    "print(\"first Number\".isidentifier())\n",
    "print(s.islower())\n",
    "print(\"WELCOME\".isupper())\n",
    "print( \"  \\t\".isspace())"
   ]
  },
  {
   "cell_type": "code",
   "execution_count": 63,
   "metadata": {},
   "outputs": [
    {
     "name": "stdout",
     "output_type": "stream",
     "text": [
      "True\n",
      "True\n",
      "11\n",
      "2\n",
      "23\n"
     ]
    }
   ],
   "source": [
    "str3 = \"Welcome to Vsquare System\"\n",
    "\n",
    "print(str3.endswith('System'))\n",
    "print(str3.startswith(\"Welcome\"))\n",
    "print(str3.find('Vsquare'))\n",
    "print(str3.count('s'))\n",
    "print(str3.rfind('e'))\n",
    "print()"
   ]
  },
  {
   "cell_type": "code",
   "execution_count": 76,
   "metadata": {},
   "outputs": [
    {
     "name": "stdout",
     "output_type": "stream",
     "text": [
      "Absulate 3\n",
      "Integer 3\n",
      "Float 3.0\n",
      "Round 3\n"
     ]
    }
   ],
   "source": [
    "#In Build Function\n",
    "number1=3\n",
    "number2=3\n",
    "print(\"Absulate\",abs(number1))\n",
    "print(\"Integer\",int(number1))\n",
    "print(\"Float\",float(number1))\n",
    "print(\"Round\",round(number1))"
   ]
  },
  {
   "cell_type": "markdown",
   "metadata": {},
   "source": [
    "# Data Types In Python\n",
    "1.List\n",
    "2.Tuple\n",
    "3.Set\n",
    "4.Dictionary\n",
    "\n",
    "Basic Operation\n",
    "Add,Remove,Update,Iterate,sort"
   ]
  },
  {
   "cell_type": "code",
   "execution_count": 97,
   "metadata": {},
   "outputs": [
    {
     "name": "stdout",
     "output_type": "stream",
     "text": [
      "['A', 'B', 'C', 'D']\n",
      "Adding Element Z\n",
      "['A', 'B', 'C', 'D', 'Z']\n",
      "['B', 'C', 'D', 'Z']\n",
      "['Z', 'D', 'C', 'B']\n",
      "['B', 'C', 'D', 'Z']\n",
      "['B', 'Z', 'C', 'D', 'Z']\n",
      "['Z', 'C', 'D', 'Z']\n",
      "['Z', 'C', 'D', 'Z']\n",
      "['Z', 'C', 'D', 'Z', 2, 3, 5, 6]\n"
     ]
    }
   ],
   "source": [
    "#List\n",
    "list1=['A','B','C','D']\n",
    "print(list1)\n",
    "print(\"Adding Element Z\")\n",
    "list1.append('Z')\n",
    "print(list1)\n",
    "list1.remove('A')\n",
    "print(list1)\n",
    "list1.reverse()\n",
    "print(list1)\n",
    "list1.sort()\n",
    "print(list1)\n",
    "list1.insert(1,'Z')\n",
    "print(list1)\n",
    "list1.pop(0)\n",
    "print(list1)\n",
    "list1.count('Z')\n",
    "print(list1)\n",
    "list2=[2,3,5,6]\n",
    "list1.extend(list2)\n",
    "\n",
    "print(list1)"
   ]
  },
  {
   "cell_type": "markdown",
   "metadata": {},
   "source": [
    "# Set"
   ]
  },
  {
   "cell_type": "code",
   "execution_count": 114,
   "metadata": {},
   "outputs": [
    {
     "name": "stdout",
     "output_type": "stream",
     "text": [
      "set()\n",
      "Initial Bank Set\n",
      "{'S', 'y', 'u', 's', 'V', 'm', 'a', 'q', 'r', 't', 'e'}\n",
      "{'S', 'y', 5, 'u', 's', 'V', 'm', 'a', 'q', 'r', 't', 'e'}\n",
      "{'S', 'y', 'u', 's', 'V', 'm', 'a', 'q', 'r', 't', 'e'}\n",
      "{'S', 'y', 'u', 's', 'V', 'kk', 'm', 'pp', 'a', 'q', 'r', 't', 'e'}\n"
     ]
    }
   ],
   "source": [
    "set1=set()\n",
    "print(set1)\n",
    "print(\"Initial Bank Set\")\n",
    "str1=\"VsquareSystem\"\n",
    "set1=set(str1)\n",
    "print(set1)\n",
    "set1.add(5)\n",
    "print(set1)\n",
    "set1.remove(5)\n",
    "print(set1)\n",
    "set1.update(['pp','kk'])\n",
    "print(set1)\n",
    "set1."
   ]
  },
  {
   "cell_type": "code",
   "execution_count": null,
   "metadata": {},
   "outputs": [],
   "source": []
  },
  {
   "cell_type": "code",
   "execution_count": null,
   "metadata": {},
   "outputs": [],
   "source": []
  }
 ],
 "metadata": {
  "kernelspec": {
   "display_name": "Python 3",
   "language": "python",
   "name": "python3"
  },
  "language_info": {
   "codemirror_mode": {
    "name": "ipython",
    "version": 3
   },
   "file_extension": ".py",
   "mimetype": "text/x-python",
   "name": "python",
   "nbconvert_exporter": "python",
   "pygments_lexer": "ipython3",
   "version": "3.7.3"
  }
 },
 "nbformat": 4,
 "nbformat_minor": 2
}
