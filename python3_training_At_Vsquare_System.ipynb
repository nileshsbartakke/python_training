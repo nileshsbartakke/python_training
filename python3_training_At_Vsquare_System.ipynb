{
 "cells": [
  {
   "cell_type": "markdown",
   "metadata": {},
   "source": [
    "# How to Create a Series using Pandas"
   ]
  },
  {
   "cell_type": "code",
   "execution_count": 2,
   "metadata": {},
   "outputs": [
    {
     "name": "stdout",
     "output_type": "stream",
     "text": [
      "0    1\n",
      "1    2\n",
      "2    3\n",
      "3    4\n",
      "4    5\n",
      "dtype: int64\n"
     ]
    }
   ],
   "source": [
    "import pandas as pd\n",
    "series1=pd.Series([1,2,3,4,5])\n",
    "print(series1)"
   ]
  },
  {
   "cell_type": "code",
   "execution_count": 4,
   "metadata": {},
   "outputs": [
    {
     "name": "stdout",
     "output_type": "stream",
     "text": [
      "0               1\n",
      "1               2\n",
      "2               3\n",
      "3    [3, 4, 5, 5]\n",
      "dtype: object\n",
      "<class 'pandas.core.series.Series'>\n"
     ]
    }
   ],
   "source": [
    "series2=pd.Series([1,2,3,[3,4,5,5]])\n",
    "print(series2)\n",
    "print(type(series2))"
   ]
  },
  {
   "cell_type": "markdown",
   "metadata": {},
   "source": [
    "# Provide the Indexes With Data in Series"
   ]
  },
  {
   "cell_type": "code",
   "execution_count": 5,
   "metadata": {},
   "outputs": [
    {
     "name": "stdout",
     "output_type": "stream",
     "text": [
      "1    A\n",
      "2    B\n",
      "3    C\n",
      "4    D\n",
      "dtype: object\n"
     ]
    }
   ],
   "source": [
    "series3=pd.Series(['A','B','C','D'],index=[1,2,3,4])\n",
    "print(series3)"
   ]
  },
  {
   "cell_type": "markdown",
   "metadata": {},
   "source": [
    "# Create a Series from the dictionary\n",
    "A dictionary can be passed as input, and if there is no index is specified, then the dictionary keys are taken in the sorted order to construct an index."
   ]
  },
  {
   "cell_type": "code",
   "execution_count": 7,
   "metadata": {},
   "outputs": [
    {
     "name": "stdout",
     "output_type": "stream",
     "text": [
      "name                Nilesh\n",
      "Email    VsquareSystem.com\n",
      "role      Trainee Engineer\n",
      "dtype: object\n"
     ]
    }
   ],
   "source": [
    "data = {'name' : 'Nilesh', 'Email' : 'VsquareSystem.com', 'role' : 'Trainee Engineer'}\n",
    "series4 = pd.Series(data)\n",
    "print(series4)"
   ]
  },
  {
   "cell_type": "code",
   "execution_count": null,
   "metadata": {},
   "outputs": [],
   "source": []
  }
 ],
 "metadata": {
  "kernelspec": {
   "display_name": "Python 3",
   "language": "python",
   "name": "python3"
  },
  "language_info": {
   "codemirror_mode": {
    "name": "ipython",
    "version": 3
   },
   "file_extension": ".py",
   "mimetype": "text/x-python",
   "name": "python",
   "nbconvert_exporter": "python",
   "pygments_lexer": "ipython3",
   "version": "3.7.3"
  }
 },
 "nbformat": 4,
 "nbformat_minor": 2
}
