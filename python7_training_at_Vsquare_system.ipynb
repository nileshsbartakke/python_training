{
 "cells": [
  {
   "cell_type": "markdown",
   "metadata": {},
   "source": [
    "# Importing Packages sqlite3"
   ]
  },
  {
   "cell_type": "code",
   "execution_count": 107,
   "metadata": {},
   "outputs": [],
   "source": [
    "import sqlite3\n",
    "import pandas as pd\n",
    "conn = sqlite3.connect('bigmart_data.db')"
   ]
  },
  {
   "cell_type": "code",
   "execution_count": 108,
   "metadata": {
    "scrolled": false
   },
   "outputs": [
    {
     "data": {
      "text/html": [
       "<div>\n",
       "<style scoped>\n",
       "    .dataframe tbody tr th:only-of-type {\n",
       "        vertical-align: middle;\n",
       "    }\n",
       "\n",
       "    .dataframe tbody tr th {\n",
       "        vertical-align: top;\n",
       "    }\n",
       "\n",
       "    .dataframe thead th {\n",
       "        text-align: right;\n",
       "    }\n",
       "</style>\n",
       "<table border=\"1\" class=\"dataframe\">\n",
       "  <thead>\n",
       "    <tr style=\"text-align: right;\">\n",
       "      <th></th>\n",
       "      <th>Item_Identifier</th>\n",
       "      <th>Item_Weight</th>\n",
       "      <th>Item_Fat_Content</th>\n",
       "      <th>Item_Visibility</th>\n",
       "      <th>Item_Type</th>\n",
       "      <th>Item_MRP</th>\n",
       "      <th>Outlet_Identifier</th>\n",
       "      <th>Outlet_Establishment_Year</th>\n",
       "      <th>Outlet_Size</th>\n",
       "      <th>Outlet_Location_Type</th>\n",
       "      <th>Outlet_Type</th>\n",
       "      <th>Item_Outlet_Sales</th>\n",
       "    </tr>\n",
       "  </thead>\n",
       "  <tbody>\n",
       "    <tr>\n",
       "      <th>0</th>\n",
       "      <td>FDA15</td>\n",
       "      <td>9.30</td>\n",
       "      <td>Low Fat</td>\n",
       "      <td>0.016047</td>\n",
       "      <td>Dairy</td>\n",
       "      <td>249.8092</td>\n",
       "      <td>OUT049</td>\n",
       "      <td>1999</td>\n",
       "      <td>Medium</td>\n",
       "      <td>Tier 1</td>\n",
       "      <td>Supermarket Type1</td>\n",
       "      <td>3735.1380</td>\n",
       "    </tr>\n",
       "    <tr>\n",
       "      <th>1</th>\n",
       "      <td>DRC01</td>\n",
       "      <td>5.92</td>\n",
       "      <td>Regular</td>\n",
       "      <td>0.019278</td>\n",
       "      <td>Soft Drinks</td>\n",
       "      <td>48.2692</td>\n",
       "      <td>OUT018</td>\n",
       "      <td>2009</td>\n",
       "      <td>Medium</td>\n",
       "      <td>Tier 3</td>\n",
       "      <td>Supermarket Type2</td>\n",
       "      <td>443.4228</td>\n",
       "    </tr>\n",
       "  </tbody>\n",
       "</table>\n",
       "</div>"
      ],
      "text/plain": [
       "  Item_Identifier  Item_Weight Item_Fat_Content  Item_Visibility    Item_Type  \\\n",
       "0           FDA15         9.30          Low Fat         0.016047        Dairy   \n",
       "1           DRC01         5.92          Regular         0.019278  Soft Drinks   \n",
       "\n",
       "   Item_MRP Outlet_Identifier  Outlet_Establishment_Year Outlet_Size  \\\n",
       "0  249.8092            OUT049                       1999      Medium   \n",
       "1   48.2692            OUT018                       2009      Medium   \n",
       "\n",
       "  Outlet_Location_Type        Outlet_Type  Item_Outlet_Sales  \n",
       "0               Tier 1  Supermarket Type1          3735.1380  \n",
       "1               Tier 3  Supermarket Type2           443.4228  "
      ]
     },
     "execution_count": 108,
     "metadata": {},
     "output_type": "execute_result"
    }
   ],
   "source": [
    "#Reading csv file\n",
    "dataset=pd.read_csv('bigmart_data.csv')\n",
    "dataset.head(2)"
   ]
  },
  {
   "cell_type": "code",
   "execution_count": 109,
   "metadata": {},
   "outputs": [],
   "source": [
    "#creating cursur conn  to traversal\n",
    "c=conn.cursor()"
   ]
  },
  {
   "cell_type": "markdown",
   "metadata": {},
   "source": [
    "# Creating table in sqlite3"
   ]
  },
  {
   "cell_type": "code",
   "execution_count": 110,
   "metadata": {},
   "outputs": [
    {
     "name": "stdout",
     "output_type": "stream",
     "text": [
      "table bigmart_data already exists\n",
      "Complete Successfully\n"
     ]
    }
   ],
   "source": [
    "#Creating table in sqlite3\n",
    "data2=[('FDA15',9.30,'Low Fat',0.016047,'Dairy',249.8092,'OUT049',1999,'Medium','Tier 1','Supermarket Type1',3735.1380),\n",
    "('DRC01',5.92,'Regular',0.019278,'Soft Drinks',48.2692,'OUT018',2009,'Medium','Tier 3','Supermarket Type2',443.4228)]\n",
    "\n",
    "try:\n",
    "    if c.execute('''create table bigmart_data (Item_Identifier text,Item_Weight real,Item_Fat_Content text ,\n",
    "                                    Item_Visibility real,Item_Type text,Item_MRP real,\n",
    "                                   Outlet_Identifier real,Outlet_Establishment_Year real,Outlet_Size text,\n",
    "                                   Outlet_Location_Type text,Outlet_Type text,Item_Outlet_Sales real)'''):\n",
    "        print(\"bigmart_data Table is Created\")  \n",
    "except:\n",
    "    print(\"table bigmart_data already exists\")\n",
    "finally:\n",
    "    print(\"Complete Successfully\")\n",
    "       \n",
    "conn.commit()\n",
    "#conn.close()"
   ]
  },
  {
   "cell_type": "markdown",
   "metadata": {},
   "source": [
    "# Display data after creation"
   ]
  },
  {
   "cell_type": "code",
   "execution_count": 111,
   "metadata": {},
   "outputs": [
    {
     "name": "stdout",
     "output_type": "stream",
     "text": [
      "('FDA15', 9.3, 'Low Fat', 0.016047, 'Dairy', 249.8092, 'OUT049', 1999.0, 'Medium', 'Tier 1', 'Supermarket Type1', 3735.138)\n",
      "('DRC01', 5.92, 'Regular', 0.019278, 'Soft Drinks', 48.2692, 'OUT018', 2009.0, 'Medium', 'Tier 3', 'Supermarket Type2', 443.4228)\n"
     ]
    }
   ],
   "source": [
    "for i in c.execute('select * from bigmart_data'):\n",
    "        print(i)"
   ]
  },
  {
   "cell_type": "markdown",
   "metadata": {},
   "source": [
    "# Inserting data in bigmart_data table"
   ]
  },
  {
   "cell_type": "code",
   "execution_count": 112,
   "metadata": {},
   "outputs": [
    {
     "name": "stdout",
     "output_type": "stream",
     "text": [
      "1 record Insert Successfully \n",
      "2 record Insert Successfully \n",
      "Insert Two record Successfully At time\n"
     ]
    }
   ],
   "source": [
    "#inserting data in bigmart_data table\n",
    "if c.execute('''insert into  bigmart_data values('FDA15',9.3,'Low Fat',0.016047,'Dairy',249.8092,'OUT049',1999,'Medium','Tier 1','Supermarket Type1',3735.138)'''):\n",
    "    print(\"1 record Insert Successfully \")\n",
    "if c.execute('''insert into  bigmart_data values('FDA18',16,'Hight Fat',0.016047,'Soft Drinks',249.8092,'OUT049',2000,'Medium','Tier 1','Supermarket Type1',3735.138)'''):\n",
    "        print(\"2 record Insert Successfully \")\n",
    "if conn.executemany('''insert into bigmart_data (Item_Identifier ,Item_Weight,Item_Fat_Content,\n",
    "                                    Item_Visibility,Item_Type,Item_MRP,\n",
    "                                   Outlet_Identifier,Outlet_Establishment_Year,Outlet_Size,\n",
    "                                   Outlet_Location_Type,Outlet_Type,Item_Outlet_Sales) values(?,?,?,?,?,?,?,?,?,?,?,?)''',data2):\n",
    "        print(\"Insert Two record Successfully At time\")\n",
    "conn.commit()"
   ]
  },
  {
   "cell_type": "markdown",
   "metadata": {},
   "source": [
    "# Display Data after insertion"
   ]
  },
  {
   "cell_type": "code",
   "execution_count": 113,
   "metadata": {},
   "outputs": [
    {
     "name": "stdout",
     "output_type": "stream",
     "text": [
      "('FDA15', 9.3, 'Low Fat', 0.016047, 'Dairy', 249.8092, 'OUT049', 1999.0, 'Medium', 'Tier 1', 'Supermarket Type1', 3735.138)\n",
      "('DRC01', 5.92, 'Regular', 0.019278, 'Soft Drinks', 48.2692, 'OUT018', 2009.0, 'Medium', 'Tier 3', 'Supermarket Type2', 443.4228)\n",
      "('FDA15', 9.3, 'Low Fat', 0.016047, 'Dairy', 249.8092, 'OUT049', 1999.0, 'Medium', 'Tier 1', 'Supermarket Type1', 3735.138)\n",
      "('FDA18', 16.0, 'Hight Fat', 0.016047, 'Soft Drinks', 249.8092, 'OUT049', 2000.0, 'Medium', 'Tier 1', 'Supermarket Type1', 3735.138)\n",
      "('FDA15', 9.3, 'Low Fat', 0.016047, 'Dairy', 249.8092, 'OUT049', 1999.0, 'Medium', 'Tier 1', 'Supermarket Type1', 3735.138)\n",
      "('DRC01', 5.92, 'Regular', 0.019278, 'Soft Drinks', 48.2692, 'OUT018', 2009.0, 'Medium', 'Tier 3', 'Supermarket Type2', 443.4228)\n"
     ]
    }
   ],
   "source": [
    "for i in c.execute('select * from bigmart_data'):\n",
    "    print(i)"
   ]
  },
  {
   "cell_type": "markdown",
   "metadata": {},
   "source": [
    "# Deleteing row from table"
   ]
  },
  {
   "cell_type": "code",
   "execution_count": 114,
   "metadata": {},
   "outputs": [
    {
     "name": "stdout",
     "output_type": "stream",
     "text": [
      "delete row Successfully\n"
     ]
    }
   ],
   "source": [
    "#Deleteing row from table\n",
    "if c.execute('''DELETE FROM bigmart_data WHERE Item_Identifier = 'FDA15' '''):\n",
    "    print(\"delete row Successfully\")"
   ]
  },
  {
   "cell_type": "code",
   "execution_count": 116,
   "metadata": {},
   "outputs": [
    {
     "name": "stdout",
     "output_type": "stream",
     "text": [
      "('DRC01', 5.92, 'Regular', 0.019278, 'Soft Drinks', 48.2692, 'OUT018', 2009.0, 'Medium', 'Tier 3', 'Supermarket Type2', 443.4228)\n",
      "('FDA18', 16.0, 'Hight Fat', 0.016047, 'Soft Drinks', 249.8092, 'OUT049', 2000.0, 'Medium', 'Tier 1', 'Supermarket Type1', 3735.138)\n",
      "('DRC01', 5.92, 'Regular', 0.019278, 'Soft Drinks', 48.2692, 'OUT018', 2009.0, 'Medium', 'Tier 3', 'Supermarket Type2', 443.4228)\n"
     ]
    }
   ],
   "source": [
    "#Printing data from table\n",
    "for i in c.execute('select * from bigmart_data'):\n",
    "    print(i)\n",
    "conn.close()"
   ]
  },
  {
   "cell_type": "markdown",
   "metadata": {},
   "source": [
    "# Creating student table in sqlite3"
   ]
  },
  {
   "cell_type": "code",
   "execution_count": 171,
   "metadata": {},
   "outputs": [],
   "source": [
    "#Creating connection with databases mydb1 is database\n",
    "conn1=sqlite3.connect(\"mydb4\")\n",
    "#creating cursur conn  to traversal\n",
    "c1=conn1.cursor()"
   ]
  },
  {
   "cell_type": "code",
   "execution_count": 172,
   "metadata": {},
   "outputs": [
    {
     "name": "stdout",
     "output_type": "stream",
     "text": [
      "student table created successfully\n"
     ]
    }
   ],
   "source": [
    "#Creating table\n",
    "try:\n",
    "    if c1.execute('''create table student (roll_no real,name text,school_name text,DOB text)'''):\n",
    "        print(\"student table created successfully\")\n",
    "except:\n",
    "    print(\"table is already created\")"
   ]
  },
  {
   "cell_type": "code",
   "execution_count": 175,
   "metadata": {},
   "outputs": [
    {
     "name": "stdout",
     "output_type": "stream",
     "text": [
      "(1.0, 'Sam', 'xyz', '2 jan 2020')\n",
      "(2.0, 'Tom', 'abc', '3 oct 2022')\n"
     ]
    }
   ],
   "source": [
    "#Empty table\n",
    "for data in c1.execute('''select * from student'''):\n",
    "    print(data)\n",
    "#conn1.close()"
   ]
  },
  {
   "cell_type": "code",
   "execution_count": 174,
   "metadata": {},
   "outputs": [
    {
     "name": "stdout",
     "output_type": "stream",
     "text": [
      "1 Record insert sucessfully \n",
      "2 Record insert sucessfully \n"
     ]
    }
   ],
   "source": [
    "#insert data\n",
    "if c1.execute('''insert into student values(1,'Sam','xyz','2 jan 2020')'''):\n",
    "    print(\"1 Record insert sucessfully \")\n",
    "if c1.execute('''insert into student values(2,'Tom','abc','3 oct 2022')'''):\n",
    "    print(\"2 Record insert sucessfully \")"
   ]
  },
  {
   "cell_type": "code",
   "execution_count": 169,
   "metadata": {},
   "outputs": [],
   "source": [
    "#Drop table\n",
    "#if c1.execute('''drop table student'''):\n",
    "#    print(\"successfully deleted\")"
   ]
  },
  {
   "cell_type": "code",
   "execution_count": 177,
   "metadata": {},
   "outputs": [
    {
     "name": "stdout",
     "output_type": "stream",
     "text": [
      "(1.0, 'Sam', 'xyz', '2 jan 2020')\n",
      "(2.0, 'Tom', 'abc', '3 oct 2022')\n"
     ]
    }
   ],
   "source": [
    "#Display data\n",
    "for tada in c1.execute('''select * from student'''):\n",
    "    print(tada)"
   ]
  },
  {
   "cell_type": "code",
   "execution_count": 178,
   "metadata": {},
   "outputs": [
    {
     "name": "stdout",
     "output_type": "stream",
     "text": [
      "update Successfully\n",
      "(1.0, 'Chetan', 'xyz', '2 jan 2020')\n",
      "(2.0, 'Tom', 'abc', '3 oct 2022')\n"
     ]
    }
   ],
   "source": [
    "#update query\n",
    "if c1.execute('''UPDATE student SET name= 'Chetan' WHERE roll_no = 1.0'''):\n",
    "    print(\"update Successfully\")\n",
    "for data in c1.execute('''select * from student'''):\n",
    "    print(data)"
   ]
  },
  {
   "cell_type": "code",
   "execution_count": 179,
   "metadata": {},
   "outputs": [],
   "source": [
    "conn1.close()"
   ]
  },
  {
   "cell_type": "code",
   "execution_count": null,
   "metadata": {},
   "outputs": [],
   "source": []
  }
 ],
 "metadata": {
  "kernelspec": {
   "display_name": "Python 3",
   "language": "python",
   "name": "python3"
  },
  "language_info": {
   "codemirror_mode": {
    "name": "ipython",
    "version": 3
   },
   "file_extension": ".py",
   "mimetype": "text/x-python",
   "name": "python",
   "nbconvert_exporter": "python",
   "pygments_lexer": "ipython3",
   "version": "3.7.3"
  }
 },
 "nbformat": 4,
 "nbformat_minor": 2
}
