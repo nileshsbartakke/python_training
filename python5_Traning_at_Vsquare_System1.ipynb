{
 "cells": [
  {
   "cell_type": "markdown",
   "metadata": {},
   "source": [
    "# Opps Inheritance"
   ]
  },
  {
   "cell_type": "code",
   "execution_count": 56,
   "metadata": {},
   "outputs": [
    {
     "name": "stdout",
     "output_type": "stream",
     "text": [
      "Name is Vsquare\n",
      "Age  14\n",
      "Salary  50000\n",
      "********************\n",
      "Name is System\n",
      "Age  22\n",
      "Roll_no  5353\n"
     ]
    }
   ],
   "source": [
    "class Memberschool: \n",
    "    def __init__(self,fname,age):\n",
    "        self.fname=fname\n",
    "        self.age=age\n",
    "        \n",
    "    def tell(self):\n",
    "        print(\"Name is\",self.fname)\n",
    "        print(\"Age \",self.age)\n",
    "        \n",
    "class Teacher(Memberschool):\n",
    "    def __init__(self,fname,age,salary):\n",
    "        Memberschool.__init__(self,fname,age)\n",
    "        self.salary=salary\n",
    "        \n",
    "    def tell(self):\n",
    "        Memberschool.tell(self)\n",
    "        print(\"Salary \",self.salary)\n",
    "        \n",
    "class student(Memberschool):\n",
    "    \n",
    "    def __init__(self,fname,age,Roll_no):\n",
    "        Memberschool.__init__(self,fname,age)\n",
    "        self.Roll_no=Roll_no\n",
    "        \n",
    "    def tell(self):\n",
    "        Memberschool.tell(self)\n",
    "        print(\"Roll_no \",self.Roll_no)\n",
    "\n",
    "        \n",
    "a=Teacher(\"Vsquare\",14,50000)\n",
    "a.tell()\n",
    "print(\"*\"*20)\n",
    "b=student(\"System\",22,5353)\n",
    "b.tell()"
   ]
  },
  {
   "cell_type": "code",
   "execution_count": null,
   "metadata": {},
   "outputs": [],
   "source": []
  }
 ],
 "metadata": {
  "kernelspec": {
   "display_name": "Python 3",
   "language": "python",
   "name": "python3"
  },
  "language_info": {
   "codemirror_mode": {
    "name": "ipython",
    "version": 3
   },
   "file_extension": ".py",
   "mimetype": "text/x-python",
   "name": "python",
   "nbconvert_exporter": "python",
   "pygments_lexer": "ipython3",
   "version": "3.7.3"
  }
 },
 "nbformat": 4,
 "nbformat_minor": 2
}
