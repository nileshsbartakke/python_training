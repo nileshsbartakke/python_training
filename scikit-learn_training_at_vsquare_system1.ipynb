{
 "cells": [
  {
   "cell_type": "code",
   "execution_count": null,
   "metadata": {},
   "outputs": [],
   "source": [
    "#importing dataset iris flower\n",
    "#import train_test_split\n",
    "#import gradient decent from sklean.preprocessing\n",
    "#import percetron from sklern.preprocessing"
   ]
  },
  {
   "cell_type": "code",
   "execution_count": 107,
   "metadata": {},
   "outputs": [],
   "source": [
    "import numpy as np\n",
    "import matplotlib as plt\n",
    "from sklearn import datasets\n",
    "from sklearn.model_selection import train_test_split\n",
    "from sklearn.preprocessing import StandardScaler\n",
    "from sklearn.metrics import accuracy_score\n",
    "\n",
    "#Loading dataset iris\n",
    "iris=datasets.load_iris()\n",
    "#deciding variables from dataset\n",
    "X=iris.data[:,[2,3]]\n",
    "y=iris.target"
   ]
  },
  {
   "cell_type": "code",
   "execution_count": 73,
   "metadata": {},
   "outputs": [],
   "source": [
    "#Traning Size Is 70% and test size = 30%\n",
    "X_train,X_test,y_train,y_test=train_test_split(X,y,test_size=0.3,random_state=0)"
   ]
  },
  {
   "cell_type": "code",
   "execution_count": 74,
   "metadata": {},
   "outputs": [],
   "source": [
    "#importing gredient-decent\n",
    "sc=StandardScaler()\n",
    "sc.fit(X_train)\n",
    "X_train_std=sc.transform(X_train)\n",
    "X_test_std=sc.transform(X_test)"
   ]
  },
  {
   "cell_type": "code",
   "execution_count": 75,
   "metadata": {},
   "outputs": [
    {
     "data": {
      "text/plain": [
       "Perceptron(alpha=0.0001, class_weight=None, early_stopping=False, eta0=0.1,\n",
       "           fit_intercept=True, max_iter=1000, n_iter_no_change=42, n_jobs=None,\n",
       "           penalty=None, random_state=0, shuffle=True, tol=0.001,\n",
       "           validation_fraction=0.1, verbose=0, warm_start=False)"
      ]
     },
     "execution_count": 75,
     "metadata": {},
     "output_type": "execute_result"
    }
   ],
   "source": [
    "#from sklearn.linear_model import Perceptron\n",
    "ppn=Perceptron(n_iter_no_change=42,eta0=0.1,random_state=0)\n",
    "ppn.fit(X_train_std,y_train)"
   ]
  },
  {
   "cell_type": "code",
   "execution_count": 76,
   "metadata": {},
   "outputs": [
    {
     "name": "stdout",
     "output_type": "stream",
     "text": [
      "Misclassified samples: 3\n",
      "Accuracy using percetron 0.9333333333333333\n"
     ]
    }
   ],
   "source": [
    "y_pred=ppn.predict(X_test_std)\n",
    "print('Misclassified samples: %d' % (y_test != y_pred).sum())\n",
    "print(\"Accuracy using percetron\",accuracy_score(y_test,y_pred))"
   ]
  },
  {
   "cell_type": "code",
   "execution_count": 81,
   "metadata": {},
   "outputs": [
    {
     "data": {
      "text/plain": [
       "SVC(C=0.1, cache_size=200, class_weight=None, coef0=0.0,\n",
       "    decision_function_shape='ovr', degree=3, gamma='auto_deprecated',\n",
       "    kernel='linear', max_iter=-1, probability=False, random_state=0,\n",
       "    shrinking=True, tol=0.001, verbose=False)"
      ]
     },
     "execution_count": 81,
     "metadata": {},
     "output_type": "execute_result"
    }
   ],
   "source": [
    "#Importing support vector machine\n",
    "from sklearn.svm import SVC\n",
    "svm=SVC(kernel='linear',C=0.1,random_state=0)\n",
    "svm.fit(X_train_std,y_train)"
   ]
  },
  {
   "cell_type": "code",
   "execution_count": 82,
   "metadata": {},
   "outputs": [
    {
     "name": "stdout",
     "output_type": "stream",
     "text": [
      "Using Support Vector Machine 0.9555555555555556\n"
     ]
    }
   ],
   "source": [
    "y_pred_svm=svm.predict(X_test_std)\n",
    "print(\"Using Support Vector Machine\",accuracy_score(y_test,y_pred_svm))"
   ]
  },
  {
   "cell_type": "code",
   "execution_count": 84,
   "metadata": {},
   "outputs": [
    {
     "name": "stdout",
     "output_type": "stream",
     "text": [
      "Using Support Vector Machine 0.8\n"
     ]
    }
   ],
   "source": [
    "#Support Vector Machine using diffent kernal=rbf\n",
    "svm=SVC(kernel='rbf',gamma=100.0,random_state=0)\n",
    "svm.fit(X_train_std,y_train)\n",
    "y_pred_svm_with_rbf=svm.predict(X_test_std)\n",
    "print(\"Using Support Vector Machine\",accuracy_score(y_test,y_pred_svm_with_rbf))"
   ]
  },
  {
   "cell_type": "code",
   "execution_count": 88,
   "metadata": {},
   "outputs": [
    {
     "name": "stdout",
     "output_type": "stream",
     "text": [
      "Using decision tree 0.9777777777777777\n"
     ]
    }
   ],
   "source": [
    "#importing decision tree classifer\n",
    "from sklearn.tree import DecisionTreeClassifier\n",
    "dc_tree=DecisionTreeClassifier(criterion='entropy',max_depth=3,random_state=0)\n",
    "dc_tree.fit(X_train_std,y_train)\n",
    "y_pred_with_dc=dc_tree.predict(X_test_std)\n",
    "print(\"Using decision tree\",accuracy_score(y_test,y_pred_with_dc))"
   ]
  },
  {
   "cell_type": "code",
   "execution_count": 91,
   "metadata": {},
   "outputs": [
    {
     "name": "stdout",
     "output_type": "stream",
     "text": [
      "Using Random Forest 0.9555555555555556\n"
     ]
    }
   ],
   "source": [
    "#import random forest\n",
    "from sklearn.ensemble import RandomForestClassifier\n",
    "forest=RandomForestClassifier(criterion='entropy',n_estimators=10,random_state=1,n_jobs=2)\n",
    "forest.fit(X_train_std,y_train)\n",
    "y_pred_with_forest=forest.predict(X_test_std)\n",
    "print(\"Using Random Forest\",accuracy_score(y_test,y_pred_with_forest))"
   ]
  },
  {
   "cell_type": "code",
   "execution_count": 99,
   "metadata": {},
   "outputs": [
    {
     "name": "stdout",
     "output_type": "stream",
     "text": [
      "Using KNN classifier 1.0\n"
     ]
    }
   ],
   "source": [
    "#Importing KNN \n",
    "from sklearn.neighbors import KNeighborsClassifier\n",
    "knn=KNeighborsClassifier(n_neighbors=5,p=2,metric='minkowski')\n",
    "knn.fit(X_train_std,y_train)\n",
    "y_pred_with_knn=knn.predict(X_test_std)\n",
    "print(\"Using KNN classifier\",accuracy_score(y_test,y_pred_with_knn))"
   ]
  },
  {
   "cell_type": "code",
   "execution_count": 106,
   "metadata": {},
   "outputs": [
    {
     "name": "stdout",
     "output_type": "stream",
     "text": [
      "Using Logistic Regression 0.9777777777777777\n"
     ]
    }
   ],
   "source": [
    "#Logistic regression\n",
    "from sklearn.linear_model import LogisticRegression\n",
    "logistic=LogisticRegression(multi_class='auto',solver='lbfgs',C=100,random_state=0) #multi class value so multi_class=auto,\n",
    "logistic.fit(X_train_std,y_train)\n",
    "y_pred_with_logistic=logistic.predict(X_test_std)\n",
    "print(\"Using Logistic Regression\",accuracy_score(y_test,y_pred_with_logistic))"
   ]
  },
  {
   "cell_type": "code",
   "execution_count": null,
   "metadata": {},
   "outputs": [],
   "source": []
  },
  {
   "cell_type": "code",
   "execution_count": null,
   "metadata": {},
   "outputs": [],
   "source": []
  }
 ],
 "metadata": {
  "kernelspec": {
   "display_name": "Python 3",
   "language": "python",
   "name": "python3"
  },
  "language_info": {
   "codemirror_mode": {
    "name": "ipython",
    "version": 3
   },
   "file_extension": ".py",
   "mimetype": "text/x-python",
   "name": "python",
   "nbconvert_exporter": "python",
   "pygments_lexer": "ipython3",
   "version": "3.7.3"
  }
 },
 "nbformat": 4,
 "nbformat_minor": 2
}
