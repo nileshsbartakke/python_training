{
 "cells": [
  {
   "cell_type": "markdown",
   "metadata": {},
   "source": [
    "# 1. Write a continuous while loop where you take the integer input from\n",
    "command prompt one by one, And if the number n is odd print \"Number is\n",
    "odd\" else print \"Number is even\". End the loop when Zero is entered. "
   ]
  },
  {
   "cell_type": "code",
   "execution_count": null,
   "metadata": {},
   "outputs": [],
   "source": [
    "#Enter no\n",
    "while(True):\n",
    "    number=int(input(\"Enter No \"))\n",
    "    if number==0:\n",
    "        break\n",
    "    else:\n",
    "        if(number%2==0):\n",
    "            print(\"Number is even \",format(number))\n",
    "        else:\n",
    "            print(\"Number is odd  \",format(number))"
   ]
  },
  {
   "cell_type": "markdown",
   "metadata": {},
   "source": [
    "# 2. Write a continuous while loop where you take the integer input from\n",
    "command prompt. The loop will continue to print \"you are great\", on each\n",
    "input integers except 8. On receiving 8, it should break the loop and print \"out\n",
    "of loop\"."
   ]
  },
  {
   "cell_type": "code",
   "execution_count": null,
   "metadata": {},
   "outputs": [],
   "source": [
    "while(True):\n",
    "    number=int(input(\"Enter No \"))\n",
    "    if (number==8):\n",
    "        print(\"out of loop\")\n",
    "        break\n",
    "    else:\n",
    "        print(\"you are great\") "
   ]
  },
  {
   "cell_type": "markdown",
   "metadata": {},
   "source": [
    "# 3. Write a program, which when runs gives the following output\n",
    "## 1. Name ##\n",
    "## 2. Age ##\n",
    "## 3. Exit ##\n",
    "##################\n",
    "What is you option : _ _\n",
    "This program should continuously run until option 3 is not given.\n",
    "When option 1 is given it will ask for “Enter your Name” and print “Hello” +\n",
    "Name.\n",
    "When option 2 is given it will ask “Enter your age” and print “Your age is” +\n",
    "age "
   ]
  },
  {
   "cell_type": "code",
   "execution_count": null,
   "metadata": {},
   "outputs": [],
   "source": [
    "while(True):\n",
    "    print(\"1.Name\")\n",
    "    print(\"2.Age\")\n",
    "    print(\"3.Exit\")\n",
    "    input1=int(input(\"Enter Option\"))\n",
    "    if (input1==1):\n",
    "        Name=input(\"Enter your Name \")\n",
    "        print(\"Hello \" , Name)\n",
    "    elif(input1==2):\n",
    "        age=input(\"Enter your age\")\n",
    "        print(\"Your age is \" , age)\n",
    "    else:\n",
    "        break"
   ]
  },
  {
   "cell_type": "markdown",
   "metadata": {},
   "source": [
    "# 4. Print the nth summation value for following series\n",
    " 1^2 + 2^2 + 3^2 + 4^2 +.......\n",
    " Where x^y means y to the power of x. As input a value n is pass, so the\n",
    "summation up to that element has to be given."
   ]
  },
  {
   "cell_type": "code",
   "execution_count": 72,
   "metadata": {},
   "outputs": [
    {
     "name": "stdout",
     "output_type": "stream",
     "text": [
      "Enter No 5\n",
      "55\n"
     ]
    }
   ],
   "source": [
    "number=int(input(\"Enter No \"))\n",
    "sum1=1\n",
    "while(number!=1):\n",
    "    sum1+=number*number\n",
    "    number-=1\n",
    "print(sum1)"
   ]
  },
  {
   "cell_type": "markdown",
   "metadata": {},
   "source": [
    "# 5. Print the nth summation value for following series\n",
    " 1^2 + ( 1^2 + 2^2 ) + (1^2 + 2^2 + 3^2) + .......\n",
    " Where x^y means y to the power of x. As input a value n is pass, so the\n",
    "summation up to that element has to be given. Hint: Try to use 2 loops"
   ]
  },
  {
   "cell_type": "code",
   "execution_count": 100,
   "metadata": {},
   "outputs": [
    {
     "name": "stdout",
     "output_type": "stream",
     "text": [
      "Enter No 6\n",
      "141\n"
     ]
    }
   ],
   "source": [
    "number=int(input(\"Enter No \"))\n",
    "sm=0\n",
    "for i in range(1,number):\n",
    "    sm+=sm+(i*i)\n",
    "print(sm)"
   ]
  },
  {
   "cell_type": "markdown",
   "metadata": {},
   "source": [
    "# 6. Write down for loop to print nth Fibonacci value. (n will be pass as input)\n",
    " 0,1,1,2,3,5,8,13....\n",
    " e.g If user pass value 5(n) as input, program should print 3 (as 5th Fibonacci\n",
    "number is series) as output."
   ]
  },
  {
   "cell_type": "code",
   "execution_count": 101,
   "metadata": {},
   "outputs": [
    {
     "name": "stdout",
     "output_type": "stream",
     "text": [
      "3\n"
     ]
    }
   ],
   "source": [
    "def Fibonacci(n): \n",
    "    if n<0: \n",
    "        print(\"Incorrect input\") \n",
    "    # First Fibonacci number is 0 \n",
    "    elif n==1: \n",
    "        return 0\n",
    "    # Second Fibonacci number is 1 \n",
    "    elif n==2: \n",
    "        return 1\n",
    "    else: \n",
    "        return Fibonacci(n-1)+Fibonacci(n-2) \n",
    "print(Fibonacci(5))"
   ]
  },
  {
   "cell_type": "markdown",
   "metadata": {},
   "source": [
    "# 7. Complete the Ex.6 but with using 2 variables only"
   ]
  },
  {
   "cell_type": "code",
   "execution_count": 102,
   "metadata": {},
   "outputs": [
    {
     "name": "stdout",
     "output_type": "stream",
     "text": [
      "Enter No 5\n",
      "0 1 1 2 3 Another output 3\n"
     ]
    }
   ],
   "source": [
    "x,y=0,1\n",
    "number=int(input(\"Enter No \"))\n",
    "print(x,end=' ')\n",
    "while y<number:\n",
    "    print(y,end=' ')\n",
    "    x,y = y,x+y\n",
    "print(\"Another output\",x)"
   ]
  },
  {
   "cell_type": "markdown",
   "metadata": {},
   "source": [
    "# 8. Print the nth summation value for following series on Fibonacci series\n",
    " 0^2 + ( 0^2 + 1^2 ) + (0^2 + 1^2 + 1^2) +(0^2 + 1^2 + 1^2 + 2^2)+ .......\n",
    " Where x^y means y to the power of x. As input a value n is pass, so the\n",
    "summation up to that element has to be given. Hint: Try to use 2 loops.\n",
    "Combine Ex 5 & 6."
   ]
  },
  {
   "cell_type": "code",
   "execution_count": 108,
   "metadata": {},
   "outputs": [
    {
     "name": "stdout",
     "output_type": "stream",
     "text": [
      "6\n"
     ]
    }
   ],
   "source": [
    "sm=0\n",
    "def Fibonacci(n): \n",
    "    if n==0: \n",
    "        return 0 \n",
    "    # First Fibonacci number is 0 \n",
    "    elif n==1: \n",
    "        return 1\n",
    "    # Second Fibonacci number is 1 \n",
    "    elif n==2: \n",
    "        return 2\n",
    "    else: \n",
    "        return Fibonacci(n-1)+Fibonacci(n-2) \n",
    "\n",
    "\n",
    "for i in range(0,3):\n",
    "    sm+=sm+(Fibonacci(i)*Fibonacci(i))\n",
    "print(sm)"
   ]
  },
  {
   "cell_type": "code",
   "execution_count": null,
   "metadata": {},
   "outputs": [],
   "source": []
  }
 ],
 "metadata": {
  "kernelspec": {
   "display_name": "Python 3",
   "language": "python",
   "name": "python3"
  },
  "language_info": {
   "codemirror_mode": {
    "name": "ipython",
    "version": 3
   },
   "file_extension": ".py",
   "mimetype": "text/x-python",
   "name": "python",
   "nbconvert_exporter": "python",
   "pygments_lexer": "ipython3",
   "version": "3.7.3"
  }
 },
 "nbformat": 4,
 "nbformat_minor": 2
}
