{
 "cells": [
  {
   "cell_type": "markdown",
   "metadata": {},
   "source": [
    "# DataFrame (2D data)"
   ]
  },
  {
   "cell_type": "code",
   "execution_count": 6,
   "metadata": {},
   "outputs": [
    {
     "name": "stdout",
     "output_type": "stream",
     "text": [
      "   0\n",
      "0  a\n",
      "1  b\n",
      "2  c\n",
      "3  d\n",
      "4  e\n",
      "5  f\n"
     ]
    }
   ],
   "source": [
    "import pandas as pd\n",
    "df=pd.DataFrame(['a','b','c','d','e','f']) #it will give you auto indexing\n",
    "print(df)"
   ]
  },
  {
   "cell_type": "code",
   "execution_count": 16,
   "metadata": {},
   "outputs": [
    {
     "name": "stdout",
     "output_type": "stream",
     "text": [
      "b\n"
     ]
    }
   ],
   "source": [
    "df1=pd.DataFrame([['a','b','c'],['d','e','f']])\n",
    "print(df1[1][0])"
   ]
  },
  {
   "cell_type": "code",
   "execution_count": 22,
   "metadata": {},
   "outputs": [
    {
     "name": "stdout",
     "output_type": "stream",
     "text": [
      "22\n"
     ]
    }
   ],
   "source": [
    "df2=pd.DataFrame({'name':['Tom','Sam','Bob'],'Age':[11,22,33]})\n",
    "print(df2['Age'][1])"
   ]
  },
  {
   "cell_type": "code",
   "execution_count": 23,
   "metadata": {},
   "outputs": [
    {
     "name": "stdout",
     "output_type": "stream",
     "text": [
      "    0\n",
      "0  11\n",
      "1  12\n",
      "2  13\n",
      "3  14\n",
      "4  15\n",
      "     Name  Age\n",
      "0    Alex   10\n",
      "1     Bob   12\n",
      "2  Clarke   13\n",
      "     Name   Age\n",
      "0    Alex  10.0\n",
      "1     Bob  12.0\n",
      "2  Clarke  13.0\n"
     ]
    }
   ],
   "source": [
    "data = [11,12,13,14,15]\n",
    "df = pd.DataFrame(data)\n",
    "print (df)\n",
    "\n",
    "data = [['Alex',10],['Bob',12],['Clarke',13]]\n",
    "df = pd.DataFrame(data,columns=['Name','Age'])\n",
    "print (df)\n",
    "\n",
    "data = [['Alex',10],['Bob',12],['Clarke',13]]\n",
    "df = pd.DataFrame(data,columns=['Name','Age'],dtype=float)\n",
    "print (df)"
   ]
  },
  {
   "cell_type": "code",
   "execution_count": 24,
   "metadata": {},
   "outputs": [
    {
     "name": "stdout",
     "output_type": "stream",
     "text": [
      "    Name  Age\n",
      "0    Tom   28\n",
      "1   Jack   34\n",
      "2  Steve   29\n",
      "3  Ricky   42\n",
      "        Name  Age\n",
      "rank1    Tom   28\n",
      "rank2   Jack   34\n",
      "rank3  Steve   29\n",
      "rank4  Ricky   42\n"
     ]
    }
   ],
   "source": [
    "import pandas as pd\n",
    "data = {'Name':['Tom', 'Jack', 'Steve', 'Ricky'],'Age':[28,34,29,42]}\n",
    "df = pd.DataFrame(data)\n",
    "print (df)\n",
    "\n",
    "data = {'Name':['Tom', 'Jack', 'Steve', 'Ricky'],'Age':[28,34,29,42]}\n",
    "df = pd.DataFrame(data, index=['rank1','rank2','rank3','rank4'])\n",
    "print (df)"
   ]
  },
  {
   "cell_type": "markdown",
   "metadata": {},
   "source": [
    "# Panel"
   ]
  },
  {
   "cell_type": "code",
   "execution_count": 25,
   "metadata": {},
   "outputs": [
    {
     "name": "stdout",
     "output_type": "stream",
     "text": [
      "<class 'pandas.core.panel.Panel'>\n",
      "Dimensions: 0 (items) x 0 (major_axis) x 0 (minor_axis)\n",
      "Items axis: None\n",
      "Major_axis axis: None\n",
      "Minor_axis axis: None\n"
     ]
    },
    {
     "name": "stderr",
     "output_type": "stream",
     "text": [
      "C:\\New folder\\new python\\lib\\site-packages\\IPython\\core\\interactiveshell.py:3325: FutureWarning: \n",
      "Panel is deprecated and will be removed in a future version.\n",
      "The recommended way to represent these types of 3-dimensional data are with a MultiIndex on a DataFrame, via the Panel.to_frame() method\n",
      "Alternatively, you can use the xarray package http://xarray.pydata.org/en/stable/.\n",
      "Pandas provides a `.to_xarray()` method to help automate this conversion.\n",
      "\n",
      "  exec(code_obj, self.user_global_ns, self.user_ns)\n"
     ]
    }
   ],
   "source": [
    "import pandas as pd\n",
    "import numpy as np\n",
    "\n",
    "#-------------Create an Empty Panel---------\n",
    "\n",
    "p = pd.Panel()\n",
    "print (p)"
   ]
  },
  {
   "cell_type": "code",
   "execution_count": 28,
   "metadata": {},
   "outputs": [
    {
     "name": "stdout",
     "output_type": "stream",
     "text": [
      "<class 'pandas.core.panel.Panel'>\n",
      "Dimensions: 2 (items) x 10 (major_axis) x 10 (minor_axis)\n",
      "Items axis: 0 to 1\n",
      "Major_axis axis: 0 to 9\n",
      "Minor_axis axis: 0 to 9\n",
      "          0         1         2         3         4         5         6  \\\n",
      "0  0.728971  0.159047  0.693666  0.014509  0.864947  0.845337  0.957873   \n",
      "1  0.859846  0.978885  0.363481  0.473170  0.811520  0.112325  0.767076   \n",
      "2  0.749691  0.991139  0.870858  0.747820  0.794225  0.143604  0.109304   \n",
      "3  0.915913  0.913036  0.558085  0.418698  0.648770  0.493003  0.120256   \n",
      "4  0.500706  0.069779  0.628339  0.576173  0.169319  0.980058  0.806380   \n",
      "5  0.746070  0.484966  0.098353  0.521361  0.799716  0.754602  0.752197   \n",
      "6  0.150789  0.955070  0.398775  0.976603  0.204884  0.270849  0.696933   \n",
      "7  0.660687  0.584686  0.701874  0.759251  0.043048  0.966458  0.083034   \n",
      "8  0.647836  0.568378  0.027736  0.855525  0.148213  0.973062  0.768212   \n",
      "9  0.533897  0.689970  0.269443  0.305796  0.424609  0.633179  0.996213   \n",
      "\n",
      "          7         8         9  \n",
      "0  0.822727  0.208651  0.673980  \n",
      "1  0.208987  0.688951  0.088225  \n",
      "2  0.751666  0.683581  0.868236  \n",
      "3  0.895675  0.108325  0.382887  \n",
      "4  0.327299  0.441432  0.473826  \n",
      "5  0.589726  0.048941  0.709228  \n",
      "6  0.017660  0.532782  0.038087  \n",
      "7  0.920475  0.373009  0.013569  \n",
      "8  0.038393  0.263841  0.820790  \n",
      "9  0.688773  0.077872  0.115695  \n",
      "          0         1         2         3         4         5         6  \\\n",
      "0  0.900443  0.573345  0.627072  0.185674  0.324391  0.387747  0.672791   \n",
      "1  0.541666  0.100279  0.561656  0.938798  0.486426  0.537709  0.178240   \n",
      "2  0.117349  0.726620  0.321468  0.966629  0.727622  0.221370  0.230940   \n",
      "3  0.104818  0.301704  0.822380  0.673058  0.732240  0.729970  0.843600   \n",
      "4  0.501961  0.620478  0.427173  0.891915  0.803634  0.816523  0.031108   \n",
      "5  0.599272  0.342001  0.535737  0.610329  0.119793  0.407657  0.681591   \n",
      "6  0.270846  0.252498  0.904952  0.027939  0.307570  0.887047  0.369259   \n",
      "7  0.048999  0.652225  0.973671  0.849896  0.695621  0.851471  0.827863   \n",
      "8  0.939541  0.910484  0.476882  0.148370  0.868309  0.712563  0.208417   \n",
      "9  0.904596  0.563215  0.098694  0.426376  0.304241  0.344260  0.394723   \n",
      "\n",
      "          7         8         9  \n",
      "0  0.095696  0.213227  0.499382  \n",
      "1  0.218426  0.098555  0.145267  \n",
      "2  0.022086  0.811249  0.132911  \n",
      "3  0.234266  0.877146  0.358484  \n",
      "4  0.653877  0.018588  0.232079  \n",
      "5  0.952173  0.217019  0.278503  \n",
      "6  0.152852  0.896293  0.922331  \n",
      "7  0.772480  0.168256  0.398621  \n",
      "8  0.280809  0.412271  0.851120  \n",
      "9  0.337991  0.321622  0.217700  \n"
     ]
    }
   ],
   "source": [
    "data = np.random.rand(2,10,10)\n",
    "p = pd.Panel(data)\n",
    "print (p)\n",
    "print(p[0])\n",
    "print(p[1])"
   ]
  },
  {
   "cell_type": "code",
   "execution_count": 30,
   "metadata": {},
   "outputs": [
    {
     "name": "stdout",
     "output_type": "stream",
     "text": [
      "          0         1         2\n",
      "0  0.652811  0.349116  0.326720\n",
      "1  0.207017  0.695687  0.707397\n",
      "2  0.019791 -1.163447 -0.888444\n",
      "3 -0.972872  0.237310  0.143453\n",
      "4 -0.943701  1.380129  1.020221\n",
      "5  1.188667 -0.438766  1.674518\n",
      "6 -0.650926  0.141717  2.503295\n",
      "7  0.095992 -0.522520  0.505189\n",
      "8  2.031609  1.060689 -1.002066\n",
      "=================================\n",
      "          0         1   2\n",
      "0  0.485789  0.297086 NaN\n",
      "1 -0.677086 -0.600009 NaN\n",
      "2 -0.202133  1.359695 NaN\n",
      "3  0.737242 -0.851685 NaN\n",
      "4  0.830469 -1.149574 NaN\n",
      "5 -0.335314 -1.734101 NaN\n",
      "6 -0.363232 -1.700521 NaN\n",
      "7       NaN       NaN NaN\n",
      "8       NaN       NaN NaN\n",
      "      Item1     Item2\n",
      "0  0.207017 -0.677086\n",
      "1  0.695687 -0.600009\n",
      "2  0.707397       NaN\n",
      "      Item1     Item2\n",
      "0  0.349116  0.297086\n",
      "1  0.695687 -0.600009\n",
      "2 -1.163447  1.359695\n",
      "3  0.237310 -0.851685\n",
      "4  1.380129 -1.149574\n",
      "5 -0.438766 -1.734101\n",
      "6  0.141717 -1.700521\n",
      "7 -0.522520       NaN\n",
      "8  1.060689       NaN\n"
     ]
    }
   ],
   "source": [
    "#-------------Using Items--------------\n",
    "\n",
    "data = {'Item1' : pd.DataFrame(np.random.randn(9, 3)), \n",
    "        'Item2' : pd.DataFrame(np.random.randn(7, 2))}\n",
    "p = pd.Panel(data)\n",
    "\n",
    "\n",
    "print (p['Item1'])\n",
    "print ('=================================')\n",
    "print (p['Item2'])\n",
    "\n",
    "#----------Using major_axis-------------\n",
    "\n",
    "print (p.major_xs(1))\n",
    "\n",
    "#---------Using minor_axis --------\n",
    "\n",
    "print (p.minor_xs(1))"
   ]
  },
  {
   "cell_type": "code",
   "execution_count": null,
   "metadata": {},
   "outputs": [],
   "source": []
  }
 ],
 "metadata": {
  "kernelspec": {
   "display_name": "Python 3",
   "language": "python",
   "name": "python3"
  },
  "language_info": {
   "codemirror_mode": {
    "name": "ipython",
    "version": 3
   },
   "file_extension": ".py",
   "mimetype": "text/x-python",
   "name": "python",
   "nbconvert_exporter": "python",
   "pygments_lexer": "ipython3",
   "version": "3.7.3"
  }
 },
 "nbformat": 4,
 "nbformat_minor": 2
}
